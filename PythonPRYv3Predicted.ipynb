{
 "cells": [
  {
   "cell_type": "code",
   "execution_count": 1,
   "metadata": {},
   "outputs": [],
   "source": [
    "import pandas as pd\n",
    "import matplotlib.pyplot as plt\n",
    "import seaborn as sns\n",
    "\n",
    "# Cargar el archivo CSV\n",
    "data = pd.read_csv('dataset/emailslcsa.csv')"
   ]
  },
  {
   "cell_type": "code",
   "execution_count": 2,
   "metadata": {},
   "outputs": [
    {
     "data": {
      "text/plain": [
       "224"
      ]
     },
     "execution_count": 2,
     "metadata": {},
     "output_type": "execute_result"
    }
   ],
   "source": [
    "len(data.index)\n"
   ]
  },
  {
   "cell_type": "code",
   "execution_count": 11,
   "metadata": {},
   "outputs": [],
   "source": [
    "data.reset_index(drop=True, inplace=True)\n",
    "# Cargar el archivo CSV\n",
    "data = pd.read_csv('dataset/emailslcsa.csv')\n",
    "\n",
    "# Remove duplicates\n",
    "data.drop_duplicates(inplace=True)\n",
    "\n",
    "labels = [1, 0, 1, 0, 0, 1, 0]\n",
    "\n",
    "# Crear una lista con las etiquetas correspondientes (1 para spam, 0 para no spam)\n",
    "n = 224\n",
    "labels = [1, 0, 1, 0, 0, 1, 0] * (n // len(labels)) + [1, 0, 1, 0, 0, 1, 0][:n % len(labels)]\n",
    "\n",
    "# Crear una nueva columna en el DataFrame con los valores de la lista de etiquetas\n",
    "data['label'] = labels\n",
    "\n",
    "# Guardar el DataFrame modificado en un nuevo archivo CSV\n",
    "data.to_csv('dataset/emailslcsapredicted.csv', index=False)\n"
   ]
  },
  {
   "cell_type": "code",
   "execution_count": 12,
   "metadata": {},
   "outputs": [
    {
     "name": "stdout",
     "output_type": "stream",
     "text": [
      "Accuracy: 0.6222222222222222\n",
      "Classification Report:               precision    recall  f1-score   support\n",
      "\n",
      "           0       0.62      0.92      0.74        26\n",
      "           1       0.67      0.21      0.32        19\n",
      "\n",
      "    accuracy                           0.62        45\n",
      "   macro avg       0.64      0.57      0.53        45\n",
      "weighted avg       0.64      0.62      0.56        45\n",
      "\n",
      "Confusion Matrix: [[24  2]\n",
      " [15  4]]\n",
      "              precision    recall  f1-score   support\n",
      "\n",
      "           0       0.62      0.92      0.74        26\n",
      "           1       0.67      0.21      0.32        19\n",
      "\n",
      "    accuracy                           0.62        45\n",
      "   macro avg       0.64      0.57      0.53        45\n",
      "weighted avg       0.64      0.62      0.56        45\n",
      "\n",
      "Confusion matrix:\n",
      " [[24  2]\n",
      " [15  4]]\n"
     ]
    },
    {
     "data": {
      "image/png": "[encoded data removed]",
      "text/plain": [
       "<Figure size 640x480 with 2 Axes>"
      ]
     },
     "metadata": {},
     "output_type": "display_data"
    }
   ],
   "source": [
    "import pandas as pd\n",
    "import re\n",
    "from sklearn.model_selection import train_test_split\n",
    "from sklearn.feature_extraction.text import TfidfVectorizer\n",
    "from sklearn.ensemble import RandomForestClassifier\n",
    "from sklearn.metrics import accuracy_score, classification_report, confusion_matrix\n",
    "\n",
    "# Load the dataset\n",
    "data = pd.read_csv('dataset/emailslcsapredicted.csv')\n",
    "\n",
    "# Preprocess the data\n",
    "def preprocess_text(text):\n",
    "    # Remove non-word characters and extra whitespace\n",
    "    text = re.sub(r'\\W+', ' ', text).strip()\n",
    "    # Convert to lowercase\n",
    "    text = text.lower()\n",
    "    return text\n",
    "\n",
    "data['Body'] = data['Body'].apply(preprocess_text)\n",
    "\n",
    "# Prepare the dataset for training\n",
    "X = data['Body']\n",
    "y = data['label']\n",
    "X_train, X_test, y_train, y_test = train_test_split(X, y, test_size=0.2, random_state=42)\n",
    "\n",
    "# Convert the email text into a numerical vector using TfidfVectorizer\n",
    "vectorizer = TfidfVectorizer(ngram_range=(1, 2))\n",
    "X_train_vec = vectorizer.fit_transform(X_train)\n",
    "X_test_vec = vectorizer.transform(X_test)\n",
    "\n",
    "# Train a Random Forest model on the training set\n",
    "clf = RandomForestClassifier(n_estimators=100, random_state=42)\n",
    "clf.fit(X_train_vec, y_train)\n",
    "\n",
    "# Use the trained model to make predictions on the testing set\n",
    "y_pred = clf.predict(X_test_vec)\n",
    "\n",
    "# Evaluate the model's performance\n",
    "print('Accuracy:', accuracy_score(y_test, y_pred))\n",
    "print('Classification Report:', classification_report(y_test, y_pred))\n",
    "print('Confusion Matrix:', confusion_matrix(y_test, y_pred))\n",
    "\n",
    "# Create a new column in the original DataFrame with the predicted spam label\n",
    "data['predicted_label'] = clf.predict(vectorizer.transform(data['Body']))\n",
    "\n",
    "# Convert the predicted labels to 1 and 0\n",
    "data['predicted_label'] = data['predicted_label'].apply(lambda x: 1 if x == 'spam' else 0)\n",
    "\n",
    "# Save the modified DataFrame to a CSV file\n",
    "data.to_csv('dataset/emails_with_predictions.csv', index=False)\n",
    "\n",
    "# Print the classification report and confusion matrix\n",
    "print(classification_report(y_test, y_pred))\n",
    "cm = confusion_matrix(y_test, y_pred)\n",
    "print(\"Confusion matrix:\\n\", cm)\n",
    "\n",
    "# Visualize the confusion matrix\n",
    "import seaborn as sns\n",
    "import matplotlib.pyplot as plt\n",
    "cm = confusion_matrix(y_test, y_pred)\n",
    "plt.figure(dpi=100)\n",
    "sns.heatmap(cm, annot=True)\n",
    "plt.title(\"Confusion matrix\")\n",
    "plt.show()\n"
   ]
  }
 ],
 "metadata": {
  "kernelspec": {
   "display_name": "Python 3",
   "language": "python",
   "name": "python3"
  },
  "language_info": {
   "codemirror_mode": {
    "name": "ipython",
    "version": 3
   },
   "file_extension": ".py",
   "mimetype": "text/x-python",
   "name": "python",
   "nbconvert_exporter": "python",
   "pygments_lexer": "ipython3",
   "version": "3.10.10"
  },
  "orig_nbformat": 4
 },
 "nbformat": 4,
 "nbformat_minor": 2
}
